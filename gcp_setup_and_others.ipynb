{
 "cells": [
  {
   "cell_type": "code",
   "execution_count": 2,
   "metadata": {},
   "outputs": [
    {
     "name": "stdout",
     "output_type": "stream",
     "text": [
      "Copying gs://luchos_own_personal_cool_bucket/images/Macau.jpg...\n",
      "Copying gs://luchos_own_personal_cool_bucket/images/StarryNight.jpg...          \n",
      "Copying gs://luchos_own_personal_cool_bucket/images/anto.jpg...                 \n",
      "/ [3 files][383.9 KiB/383.9 KiB]                                                \n",
      "==> NOTE: You are performing a sequence of gsutil operations that may\n",
      "run significantly faster if you instead use gsutil -m cp ... Please\n",
      "see the -m section under \"gsutil help options\" for further information\n",
      "about when gsutil -m can be advantageous.\n",
      "\n",
      "Copying gs://luchos_own_personal_cool_bucket/images/anto2.jpg...\n",
      "Copying gs://luchos_own_personal_cool_bucket/images/anto_style.jpg...           \n",
      "Copying gs://luchos_own_personal_cool_bucket/images/guernica.jpg...             \n",
      "Copying gs://luchos_own_personal_cool_bucket/images/hong_kong.jpg...            \n",
      "Copying gs://luchos_own_personal_cool_bucket/images/hong_kong_2.jpg...          \n",
      "Copying gs://luchos_own_personal_cool_bucket/images/hongkong.jpg...             \n",
      "Copying gs://luchos_own_personal_cool_bucket/images/louvre.jpg...               \n",
      "Copying gs://luchos_own_personal_cool_bucket/images/louvre_small.jpg...         \n",
      "Copying gs://luchos_own_personal_cool_bucket/images/monet.jpg...                \n",
      "Copying gs://luchos_own_personal_cool_bucket/images/monet_800600.jpg...         \n",
      "Copying gs://luchos_own_personal_cool_bucket/images/monkey1.jpg...              \n",
      "Copying gs://luchos_own_personal_cool_bucket/images/monkey2.jpg...              \n",
      "Copying gs://luchos_own_personal_cool_bucket/images/output-macau/0.png...       \n",
      "Copying gs://luchos_own_personal_cool_bucket/images/output-macau/1000.png...    \n",
      "Copying gs://luchos_own_personal_cool_bucket/images/output-macau/2000.png...    \n",
      "Copying gs://luchos_own_personal_cool_bucket/images/output-macau/3000.png...    \n",
      "Copying gs://luchos_own_personal_cool_bucket/images/output-macau/4000.png...    \n",
      "Copying gs://luchos_own_personal_cool_bucket/images/output-macau/4900 - final.png...\n",
      "- [21 files][ 12.0 MiB/ 12.0 MiB]                                               \n",
      "Operation completed over 21 objects/12.0 MiB.                                    \n"
     ]
    }
   ],
   "source": [
    "# bring images folder from bucket to VM\n",
    "!gsutil cp -r gs://luchos_own_personal_cool_bucket/images /home/jupyter/"
   ]
  },
  {
   "cell_type": "code",
   "execution_count": 11,
   "metadata": {},
   "outputs": [
    {
     "name": "stdout",
     "output_type": "stream",
     "text": [
      "Copying gs://luchos_own_personal_cool_bucket/imagenet-vgg-verydeep-19.mat...\n",
      "| [1 files][510.1 MiB/510.1 MiB]                                                \n",
      "Operation completed over 1 objects/510.1 MiB.                                    \n"
     ]
    }
   ],
   "source": [
    "# bring vgg model (neural transfer) from bucket to VM\n",
    "!gsutil cp -r gs://luchos_own_personal_cool_bucket/imagenet-vgg-verydeep-19.mat /home/jupyter/"
   ]
  },
  {
   "cell_type": "code",
   "execution_count": null,
   "metadata": {},
   "outputs": [],
   "source": [
    ""
   ]
  },
  {
   "cell_type": "code",
   "execution_count": null,
   "metadata": {},
   "outputs": [],
   "source": [
    ""
   ]
  },
  {
   "cell_type": "markdown",
   "metadata": {},
   "source": [
    "# Things I need to check and setup before even getting into a model\n",
    "\n",
    "* Create a bucket, and connect and access those files\n",
    "    * https://cloud.google.com/compute/docs/disks/gcs-buckets\n",
    "\n",
    "\n",
    "* Connect and setup GIT project\n",
    "    * https://cloud.google.com/ai-platform/notebooks/docs/save-to-github\n",
    "    * My repository: https://github.com/luisalejandrolee/the_art_of_data_science.git\n",
    "    * Before, run these commands on the GIT terminal:\n",
    "    * git config --global user.name \"luisalejandrolee\"\n",
    "    * git config --global user.email \"luisalejandrolee@gmail.com\"\n",
    "    \n",
    "* Bonus: complete guide to using Jupyterlab: https://medium.com/google-cloud/using-google-cloud-ai-platform-notebooks-as-a-web-based-python-ide-e729e0dc6eed\n",
    "    \n",
    "    \n",
    "  \n",
    "* Expose whatever API (like a \"hello NAME\") or something\n",
    "    * Create simple function\n",
    "    * https://cloud.google.com/endpoints/docs/openapi/get-started-cloud-functions"
   ]
  },
  {
   "cell_type": "markdown",
   "metadata": {},
   "source": [
    "* Couldn't setup GIT directly on the notebook\n",
    "* Instances with Tensorflow 2.0 always throw a 505 error\n",
    "* The notebook instance had to be installed with tensorflow 1.4\n",
    "* Wow! surprise! tutorials in the notebooks include the style_transfer notebook\n",
    "* The notebook uses \"eager\" mode in tensorflow, which was included after 1.8, so it didn't run\n",
    "* Had to look for a different implementation of the model"
   ]
  },
  {
   "cell_type": "markdown",
   "metadata": {},
   "source": [
    "Drawbacks:\n",
    "* Still beta mode, so error, and found little help online\n",
    "* Cannot install new dependencies, so difficult to customize or solve on my own the problems (installing \"nightly\") for the eager mode"
   ]
  },
  {
   "cell_type": "code",
   "execution_count": null,
   "metadata": {},
   "outputs": [],
   "source": [
    "# bucket name\n",
    "BUCKET_NAME = \"luchos_own_personal_cool_bucket\""
   ]
  },
  {
   "cell_type": "code",
   "execution_count": null,
   "metadata": {},
   "outputs": [],
   "source": [
    "# create the bucket\n",
    "!gsutil mb gs://$BUCKET_NAME/"
   ]
  },
  {
   "cell_type": "code",
   "execution_count": null,
   "metadata": {},
   "outputs": [],
   "source": [
    "# check what's in the bucket\n",
    "# previouly there has been a manual upload (through GCP console) of the \"kitten.png\" file in the images \"folder\"\n",
    "!gsutil ls gs://$BUCKET_NAME/"
   ]
  },
  {
   "cell_type": "code",
   "execution_count": null,
   "metadata": {},
   "outputs": [],
   "source": [
    "# send a file to the bucket\n",
    "!gsutil cp art_and_style.ipynb gs://$BUCKET_NAME"
   ]
  },
  {
   "cell_type": "code",
   "execution_count": 5,
   "metadata": {},
   "outputs": [
    {
     "name": "stdout",
     "output_type": "stream",
     "text": [
      "Copying gs://luchos_own_personal_cool_bucket/images/Macau.jpg...\n",
      "Copying gs://luchos_own_personal_cool_bucket/images/StarryNight.jpg...          \n",
      "Copying gs://luchos_own_personal_cool_bucket/images/guernica.jpg...             \n",
      "/ [3 files][726.0 KiB/726.0 KiB]                                                \n",
      "==> NOTE: You are performing a sequence of gsutil operations that may\n",
      "run significantly faster if you instead use gsutil -m cp ... Please\n",
      "see the -m section under \"gsutil help options\" for further information\n",
      "about when gsutil -m can be advantageous.\n",
      "\n",
      "Copying gs://luchos_own_personal_cool_bucket/images/hong_kong.jpg...\n",
      "Copying gs://luchos_own_personal_cool_bucket/images/hong_kong_2.jpg...          \n",
      "Copying gs://luchos_own_personal_cool_bucket/images/hongkong.jpg...             \n",
      "Copying gs://luchos_own_personal_cool_bucket/images/louvre.jpg...               \n",
      "Copying gs://luchos_own_personal_cool_bucket/images/louvre_small.jpg...         \n",
      "Copying gs://luchos_own_personal_cool_bucket/images/monet.jpg...                \n",
      "Copying gs://luchos_own_personal_cool_bucket/images/monet_800600.jpg...         \n",
      "Copying gs://luchos_own_personal_cool_bucket/images/output-macau/0.png...       \n",
      "Copying gs://luchos_own_personal_cool_bucket/images/output-macau/1000.png...    \n",
      "Copying gs://luchos_own_personal_cool_bucket/images/output-macau/2000.png...    \n",
      "Copying gs://luchos_own_personal_cool_bucket/images/output-macau/3000.png...    \n",
      "Copying gs://luchos_own_personal_cool_bucket/images/output-macau/4000.png...    \n",
      "Copying gs://luchos_own_personal_cool_bucket/images/output-macau/4900 - final.png...\n",
      "Copying gs://luchos_own_personal_cool_bucket/images/starry_night.jpg...         \n",
      "| [17 files][  8.9 MiB/  8.9 MiB]                                               \n",
      "Operation completed over 17 objects/8.9 MiB.                                     \n"
     ]
    }
   ],
   "source": [
    "# bringing a file from the bucket\n",
    "# notice that /home/folder/ is the root folder in the VM\n",
    "!gsutil cp -r gs://luchos_own_personal_cool_bucket/images /home/jupyter/"
   ]
  },
  {
   "cell_type": "code",
   "execution_count": 3,
   "metadata": {},
   "outputs": [
    {
     "name": "stdout",
     "output_type": "stream",
     "text": [
      "Copying file:///home/jupyter/final_style_transfer.ipynb [Content-Type=application/octet-stream]...\n",
      "- [1 files][ 15.6 MiB/ 15.6 MiB]                                                \n",
      "Operation completed over 1 objects/15.6 MiB.                                     \n"
     ]
    }
   ],
   "source": [
    "# sending file to bucket\n",
    "!gsutil cp -r /home/jupyter/style_transfer_repo gs://luchos_own_personal_cool_bucket/"
   ]
  },
  {
   "cell_type": "code",
   "execution_count": null,
   "metadata": {},
   "outputs": [],
   "source": [
    ""
   ]
  },
  {
   "cell_type": "code",
   "execution_count": null,
   "metadata": {},
   "outputs": [],
   "source": [
    ""
   ]
  },
  {
   "cell_type": "code",
   "execution_count": null,
   "metadata": {},
   "outputs": [],
   "source": [
    ""
   ]
  },
  {
   "cell_type": "code",
   "execution_count": null,
   "metadata": {},
   "outputs": [],
   "source": [
    ""
   ]
  },
  {
   "cell_type": "code",
   "execution_count": null,
   "metadata": {},
   "outputs": [],
   "source": [
    ""
   ]
  },
  {
   "cell_type": "code",
   "execution_count": null,
   "metadata": {},
   "outputs": [],
   "source": [
    ""
   ]
  },
  {
   "cell_type": "code",
   "execution_count": null,
   "metadata": {},
   "outputs": [],
   "source": [
    ""
   ]
  },
  {
   "cell_type": "code",
   "execution_count": null,
   "metadata": {},
   "outputs": [],
   "source": [
    ""
   ]
  }
 ],
 "metadata": {
  "kernelspec": {
   "display_name": "Python 3",
   "language": "python",
   "name": "python3"
  },
  "language_info": {
   "codemirror_mode": {
    "name": "ipython",
    "version": 3.0
   },
   "file_extension": ".py",
   "mimetype": "text/x-python",
   "name": "python",
   "nbconvert_exporter": "python",
   "pygments_lexer": "ipython3",
   "version": "3.5.3"
  }
 },
 "nbformat": 4,
 "nbformat_minor": 0
}