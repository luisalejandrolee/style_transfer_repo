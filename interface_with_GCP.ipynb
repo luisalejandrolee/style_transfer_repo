{
 "cells": [
  {
   "cell_type": "markdown",
   "metadata": {},
   "source": [
    "Package the files as an application (.tar)"
   ]
  },
  {
   "cell_type": "code",
   "execution_count": 2,
   "metadata": {},
   "outputs": [
    {
     "name": "stdout",
     "output_type": "stream",
     "text": [
      "running sdist\n",
      "running egg_info\n",
      "creating style_transfer.egg-info\n",
      "writing style_transfer.egg-info/PKG-INFO\n",
      "writing top-level names to style_transfer.egg-info/top_level.txt\n",
      "writing dependency_links to style_transfer.egg-info/dependency_links.txt\n",
      "writing manifest file 'style_transfer.egg-info/SOURCES.txt'\n",
      "reading manifest file 'style_transfer.egg-info/SOURCES.txt'\n",
      "writing manifest file 'style_transfer.egg-info/SOURCES.txt'\n",
      "warning: sdist: standard file not found: should have one of README, README.rst, README.txt, README.md\n",
      "\n",
      "running check\n",
      "warning: check: missing required meta-data: url\n",
      "\n",
      "warning: check: missing meta-data: either (author and author_email) or (maintainer and maintainer_email) must be supplied\n",
      "\n",
      "creating style_transfer-0.1\n",
      "creating style_transfer-0.1/style_transfer.egg-info\n",
      "copying files to style_transfer-0.1...\n",
      "copying predictor.py -> style_transfer-0.1\n",
      "copying setup.py -> style_transfer-0.1\n",
      "copying style_transfer.egg-info/PKG-INFO -> style_transfer-0.1/style_transfer.egg-info\n",
      "copying style_transfer.egg-info/SOURCES.txt -> style_transfer-0.1/style_transfer.egg-info\n",
      "copying style_transfer.egg-info/dependency_links.txt -> style_transfer-0.1/style_transfer.egg-info\n",
      "copying style_transfer.egg-info/top_level.txt -> style_transfer-0.1/style_transfer.egg-info\n",
      "Writing style_transfer-0.1/setup.cfg\n",
      "creating dist\n",
      "Creating tar archive\n",
      "removing 'style_transfer-0.1' (and everything under it)\n"
     ]
    }
   ],
   "source": [
    "!python setup.py sdist --formats=gztar"
   ]
  },
  {
   "cell_type": "markdown",
   "metadata": {},
   "source": [
    "Send the application package to the bucket"
   ]
  },
  {
   "cell_type": "code",
   "execution_count": 4,
   "metadata": {},
   "outputs": [
    {
     "name": "stdout",
     "output_type": "stream",
     "text": [
      "Copying file://dist/style_transfer-0.1.tar.gz [Content-Type=application/x-tar]...\n",
      "/ [1 files][  2.7 KiB/  2.7 KiB]                                                \n",
      "Operation completed over 1 objects/2.7 KiB.                                      \n"
     ]
    }
   ],
   "source": [
    "!gsutil cp dist/style_transfer-0.1.tar.gz gs://luchos_own_personal_cool_bucket/staging_style_transfer/"
   ]
  },
  {
   "cell_type": "markdown",
   "metadata": {},
   "source": [
    "Create a model: separates containeraized GCP resources for deployment"
   ]
  },
  {
   "cell_type": "code",
   "execution_count": 1,
   "metadata": {},
   "outputs": [],
   "source": [
    "# The code below can be replaced by going through the console in \"models\" section\n",
    "#!gcloud ai-platform models create \"style-transfer\""
   ]
  },
  {
   "cell_type": "markdown",
   "metadata": {},
   "source": [
    "\"Fill\" the model: indicate the actual version and application. I did it through the console, but here's the code"
   ]
  },
  {
   "cell_type": "code",
   "execution_count": 17,
   "metadata": {},
   "outputs": [],
   "source": [
    "MODEL_DIR=\"gs://luchos_own_personal_cool_bucket/staging_style_transfer/\" #staging_style_transfer/\"\n",
    "VERSION_NAME=\"0.1\"\n",
    "MODEL_NAME=\"style_transfer\"\n",
    "CUSTOM_CODE_PATH=\"gs://luchos_own_personal_cool_bucket/staging_style_transfer/style_transfer-0.1.tar.gz\t\"\n",
    "PREDICTOR_CLASS=\"MyPredictor.merge_content_and_style\""
   ]
  },
  {
   "cell_type": "code",
   "execution_count": 18,
   "metadata": {},
   "outputs": [
    {
     "name": "stdout",
     "output_type": "stream",
     "text": [
      "\u001b[1;31mERROR:\u001b[0m (gcloud.beta.ai-platform.versions.create) unrecognized arguments:\n",
      "  --deploymentUri (did you mean '--document'?)\n",
      "  gs://luchos_own_personal_cool_bucket/staging_style_transfer/\n",
      "  To search the help text of gcloud commands, run:\n",
      "  gcloud help -- SEARCH_TERMS\n"
     ]
    }
   ],
   "source": [
    "!gcloud beta ai-platform versions create $VERSION_NAME \\\n",
    "  --model $MODEL_NAME \\\n",
    "  --deploymentUri $MODEL_DIR \\\n",
    "  --runtime-version=1.14 \\\n",
    "  --python-version=3.5\\\n",
    "  --package-uris=$CUSTOM_CODE_PATH\\\n",
    "  --prediction-class=$PREDICTOR_CLASS"
   ]
  },
  {
   "cell_type": "markdown",
   "metadata": {},
   "source": [
    "Finally, notice that \"runtime-version\" defines the environment for deployment. At the moment (still under beta), there's no tensorflow 2.0 (bummer!). One could probably use the old code (coursera implementation), and try and deploy it... BUT... althought there's a 1.14 environment for that in deployment, the \"notebooks\" version in the VMs is not compatible, so cannot run it and test it in the VM before deploying. (probably more tweaking could do it, but that will have to wait until a next iteration or project).\n",
    "\n",
    "Now, wait for 2.0 to be av"
   ]
  }
 ],
 "metadata": {
  "kernelspec": {
   "display_name": "Python 3",
   "language": "python",
   "name": "python3"
  },
  "language_info": {
   "codemirror_mode": {
    "name": "ipython",
    "version": 3.0
   },
   "file_extension": ".py",
   "mimetype": "text/x-python",
   "name": "python",
   "nbconvert_exporter": "python",
   "pygments_lexer": "ipython3",
   "version": "3.5.3"
  }
 },
 "nbformat": 4,
 "nbformat_minor": 0
}